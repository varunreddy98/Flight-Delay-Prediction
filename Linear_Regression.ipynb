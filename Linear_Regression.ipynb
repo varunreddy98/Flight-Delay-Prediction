{
  "cells": [
    {
      "cell_type": "markdown",
      "metadata": {
        "id": "ftAKddQQ7KZV"
      },
      "source": [
        "Initialing SparkSession and Loading Flight Data"
      ]
    },
    {
      "cell_type": "code",
      "source": [
        "# mounting the google drive to access the data\n",
        "from google.colab import drive\n",
        "drive.mount('/content/drive')"
      ],
      "metadata": {
        "colab": {
          "base_uri": "https://localhost:8080/"
        },
        "id": "bTWPQVeIh-4P",
        "outputId": "ea8ba425-e7da-40a7-ab98-bc73e2eb00c9"
      },
      "execution_count": 31,
      "outputs": [
        {
          "output_type": "stream",
          "name": "stdout",
          "text": [
            "Drive already mounted at /content/drive; to attempt to forcibly remount, call drive.mount(\"/content/drive\", force_remount=True).\n"
          ]
        }
      ]
    },
    {
      "cell_type": "code",
      "execution_count": 32,
      "metadata": {
        "colab": {
          "base_uri": "https://localhost:8080/"
        },
        "id": "Dr7R8QUk7KZW",
        "outputId": "535547e7-3ab4-4e55-85fc-e069125110d0"
      },
      "outputs": [
        {
          "output_type": "stream",
          "name": "stdout",
          "text": [
            "Looking in indexes: https://pypi.org/simple, https://us-python.pkg.dev/colab-wheels/public/simple/\n",
            "Requirement already satisfied: pyspark in /usr/local/lib/python3.10/dist-packages (3.4.0)\n",
            "Requirement already satisfied: py4j==0.10.9.7 in /usr/local/lib/python3.10/dist-packages (from pyspark) (0.10.9.7)\n",
            "+----+-----+----------+---------+-------+----------+-------+----------+-------------+---------+-------+-----------------+--------------+-------+--------+--------+------+----+--------+------+-------+---------+----------------+--------+-------------------+---------------+----------------+-------------------+\n",
            "|Year|Month|DayofMonth|DayOfWeek|DepTime|CRSDepTime|ArrTime|CRSArrTime|UniqueCarrier|FlightNum|TailNum|ActualElapsedTime|CRSElapsedTime|AirTime|ArrDelay|DepDelay|Origin|Dest|Distance|TaxiIn|TaxiOut|Cancelled|CancellationCode|Diverted|carrier_transformed|org_transformed|dest_transformed|tailnum_transformed|\n",
            "+----+-----+----------+---------+-------+----------+-------+----------+-------------+---------+-------+-----------------+--------------+-------+--------+--------+------+----+--------+------+-------+---------+----------------+--------+-------------------+---------------+----------------+-------------------+\n",
            "|2008|    1|         3|        4| 1829.0|      1755| 1959.0|      1925|           WN|     3920| N464WN|             90.0|          90.0|   77.0|    34.0|    34.0|   IND| BWI|     515|   3.0|   10.0|        0|               N|       0|                0.0|           45.0|            19.0|              328.0|\n",
            "|2008|    1|         3|        4| 1937.0|      1830| 2037.0|      1940|           WN|      509| N763SW|            240.0|         250.0|  230.0|    57.0|    67.0|   IND| LAS|    1591|   3.0|    7.0|        0|               N|       0|                0.0|           45.0|             7.0|              666.0|\n",
            "|2008|    1|         3|        4| 1644.0|      1510| 1845.0|      1725|           WN|     1333| N334SW|            121.0|         135.0|  107.0|    80.0|    94.0|   IND| MCO|     828|   6.0|    8.0|        0|               N|       0|                0.0|           45.0|            13.0|              358.0|\n",
            "|2008|    1|         3|        4| 1452.0|      1425| 1640.0|      1625|           WN|      675| N286WN|            228.0|         240.0|  213.0|    15.0|    27.0|   IND| PHX|    1489|   7.0|    8.0|        0|               N|       0|                0.0|           45.0|             9.0|              609.0|\n",
            "|2008|    1|         3|        4| 1323.0|      1255| 1526.0|      1510|           WN|        4| N674AA|            123.0|         135.0|  110.0|    16.0|    28.0|   IND| TPA|     838|   4.0|    9.0|        0|               N|       0|                0.0|           45.0|            24.0|             1698.0|\n",
            "+----+-----+----------+---------+-------+----------+-------+----------+-------------+---------+-------+-----------------+--------------+-------+--------+--------+------+----+--------+------+-------+---------+----------------+--------+-------------------+---------------+----------------+-------------------+\n",
            "only showing top 5 rows\n",
            "\n",
            "[('Year', 'int'), ('Month', 'int'), ('DayofMonth', 'int'), ('DayOfWeek', 'int'), ('DepTime', 'double'), ('CRSDepTime', 'int'), ('ArrTime', 'double'), ('CRSArrTime', 'int'), ('UniqueCarrier', 'string'), ('FlightNum', 'int'), ('TailNum', 'string'), ('ActualElapsedTime', 'double'), ('CRSElapsedTime', 'double'), ('AirTime', 'double'), ('ArrDelay', 'double'), ('DepDelay', 'double'), ('Origin', 'string'), ('Dest', 'string'), ('Distance', 'int'), ('TaxiIn', 'double'), ('TaxiOut', 'double'), ('Cancelled', 'int'), ('CancellationCode', 'string'), ('Diverted', 'int'), ('carrier_transformed', 'double'), ('org_transformed', 'double'), ('dest_transformed', 'double'), ('tailnum_transformed', 'double')]\n"
          ]
        }
      ],
      "source": [
        "#Install the Pyspark\n",
        "!pip install pyspark\n",
        "\n",
        "# importing the required classes\n",
        "import pyspark\n",
        "from pyspark.sql import SparkSession\n",
        "\n",
        "from pyspark.ml.feature import VectorAssembler\n",
        "from pyspark.ml.feature import SQLTransformer\n",
        "\n",
        "from pyspark.ml.tuning import CrossValidator, ParamGridBuilder\n",
        "from pyspark.ml import Pipeline \n",
        "from pyspark.ml.regression import LinearRegression\n",
        "from pyspark.ml.tuning import ParamGridBuilder, TrainValidationSplit\n",
        "from pyspark.ml.evaluation import RegressionEvaluator\n",
        "from pyspark.ml.classification import LinearSVC\n",
        "\n",
        "import matplotlib.pyplot as plt\n",
        "import numpy as np\n",
        "import time\n",
        "\n",
        "# creating a spark session\n",
        "spark = SparkSession.builder.master('local[*]').appName('Flight Delay Prediction').getOrCreate()\n",
        "\n",
        "# Load the pre-processed data from drive \n",
        "flights_df = spark.read.csv('/content/drive/MyDrive/532/ProcessedFlights', sep=',', header=True, inferSchema=True, nullValue='NA')\n",
        "\n",
        "# printing the columns and their types\n",
        "flights_df.show(5)\n",
        "print(flights_df.dtypes)"
      ]
    },
    {
      "cell_type": "markdown",
      "metadata": {
        "id": "JpLU5-Oh7KZX"
      },
      "source": [
        "Pre-processing the flight data "
      ]
    },
    {
      "cell_type": "code",
      "execution_count": 33,
      "metadata": {
        "id": "mg1ZrgQw7KZY"
      },
      "outputs": [],
      "source": [
        "# Create an assembler object to consolidate the features\n",
        "relevantCols = ['Year', 'Month', 'DayofMonth', 'DayOfWeek', 'DepTime', 'CRSDepTime', 'ArrTime', 'CRSArrTime', 'FlightNum', 'ActualElapsedTime', 'CRSElapsedTime', 'AirTime', 'Distance', 'TaxiIn', 'TaxiOut', 'Cancelled', 'Diverted', 'carrier_transformed', 'org_transformed', 'dest_transformed', 'tailnum_transformed']\n",
        "assembler = VectorAssembler(inputCols=relevantCols, outputCol='features')\n",
        "flights_consolidate = assembler.transform(flights_df)\n",
        "\n",
        "# Selecting the features and delay values using SQLTransformer\n",
        "transformer = SQLTransformer(statement=\"SELECT ArrDelay, features FROM __THIS__\")\n",
        "flights_data = transformer.transform(flights_consolidate)\n",
        "\n",
        "# Split the data for training and test\n",
        "flights_train1, flights_test1 = flights_data.randomSplit([0.6, 0.4], seed=42)"
      ]
    },
    {
      "cell_type": "code",
      "source": [
        "# Start Execution time\n",
        "time_init = time.time()\n",
        "\n",
        "#Create a Linear Regression Model\n",
        "linear_reg_model = LinearRegression(maxIter=200, regParam=0.5, elasticNetParam=0.1, featuresCol = 'features', labelCol = 'ArrDelay')\n",
        "\n",
        "#Create a pipeline with the linear_regression_model\n",
        "pipeline1 = Pipeline(stages=[linear_reg_model])\n",
        "\n",
        "# define set of parameters for tuning the model\n",
        "paramGrid1 = (ParamGridBuilder() \\\n",
        "    .addGrid(linear_reg_model.regParam, [0.1,0.5,1]) \\\n",
        "    .addGrid(linear_reg_model.elasticNetParam, [0.01, 0.1, 0.2]) \\\n",
        "    .addGrid(linear_reg_model.maxIter,[200])\n",
        "    .build())\n",
        "\n",
        "# Define the evaluator\n",
        "evaluator1 = RegressionEvaluator(labelCol=\"ArrDelay\", predictionCol=\"prediction\", metricName=\"rmse\")\n",
        "\n",
        "# # Define the train-validation split\n",
        "train_validation_split_linear = TrainValidationSplit(estimator=pipeline1, estimatorParamMaps=paramGrid1, evaluator=evaluator1, trainRatio=0.8)\n",
        "\n",
        "#Train the model\n",
        "model_linear_reg = train_validation_split_linear.fit(flights_train1)\n",
        "\n",
        "#End the execution time\n",
        "regression_speed = time.time()-time_init"
      ],
      "metadata": {
        "id": "Pc5y7v2LJJjt"
      },
      "execution_count": 34,
      "outputs": []
    },
    {
      "cell_type": "code",
      "source": [
        "#Displaying the model training summary\n",
        "summary = model_linear_reg.bestModel.stages[-1].summary\n",
        "print(\"numIterations: %d\" % summary.totalIterations)\n",
        "print(\"RMSE on train data %f\" % summary.rootMeanSquaredError)\n",
        "print(\"MAE on train data %f\" % summary.meanAbsoluteError)\n",
        "print(\"R2 on train data %f\" % summary.r2)"
      ],
      "metadata": {
        "colab": {
          "base_uri": "https://localhost:8080/"
        },
        "id": "4qJjk9huvDt8",
        "outputId": "a454a48d-c738-487c-9da4-4298f1a8e38a"
      },
      "execution_count": 35,
      "outputs": [
        {
          "output_type": "stream",
          "name": "stdout",
          "text": [
            "numIterations: 97\n",
            "RMSE on train data 57.524456\n",
            "MAE on train data 36.747363\n",
            "R2 on train data 0.102245\n"
          ]
        }
      ]
    },
    {
      "cell_type": "code",
      "source": [
        "# predicting for the test data\n",
        "predictions_linear_reg = model_linear_reg.transform(flights_test1)\n",
        "\n",
        "#Evaluating the Test Data\n",
        "# Evaluating for RMSE metric\n",
        "lr_evaluator_mse = RegressionEvaluator(predictionCol=\"prediction\", \\\n",
        "                 labelCol=\"ArrDelay\",metricName=\"rmse\")\n",
        "\n",
        "print(\"RMSE on test data = %g\" % lr_evaluator_mse.evaluate(predictions_linear_reg))\n",
        "\n",
        "# Evaluating for MAE metric\n",
        "lr_evaluator_mae = RegressionEvaluator(predictionCol=\"prediction\", \\\n",
        "                 labelCol=\"ArrDelay\",metricName=\"mae\")\n",
        "\n",
        "print(\"MAE on test data = %g\" % lr_evaluator_mae.evaluate(predictions_linear_reg))\n",
        "\n",
        "# Evaluating for R2 metric\n",
        "lr_evaluator_r2 = RegressionEvaluator(predictionCol=\"prediction\", \\\n",
        "                 labelCol=\"ArrDelay\",metricName=\"r2\")\n",
        "\n",
        "print(\"R2 on test data = %g\" % lr_evaluator_r2.evaluate(predictions_linear_reg))"
      ],
      "metadata": {
        "id": "mB9-XMunywfU",
        "colab": {
          "base_uri": "https://localhost:8080/"
        },
        "outputId": "a3ce0962-b164-4ac9-b86a-4f6fb96a2d2d"
      },
      "execution_count": 36,
      "outputs": [
        {
          "output_type": "stream",
          "name": "stdout",
          "text": [
            "RMSE on test data = 57.6306\n",
            "MAE on test data = 36.8134\n",
            "R2 on test data = 0.102031\n"
          ]
        }
      ]
    },
    {
      "cell_type": "code",
      "source": [
        "def plot_graph(model_name, predictions):\n",
        "      #Processing the predictions to plot the graph\n",
        "      pred = predictions.select('prediction').rdd.flatMap(lambda x: x)\n",
        "      pred = [r[0] for r in predictions.select('prediction').toLocalIterator()]\n",
        "      test = [r[0] for r in predictions.select('ArrDelay').toLocalIterator()]\n",
        "\n",
        "      # plotting the graph with original and predicted values\n",
        "      plt.plot(range(len(pred)), pred, label = \"predicted delay\")\n",
        "      plt.plot(range(len(pred)), test, label = \"original delay\")\n",
        "      plt.legend()\n",
        "      plt.ylabel(\"delay value\")\n",
        "      plt.xlabel(\"test data\")\n",
        "      plt.title(\"Delay -- \"+ model_name)\n",
        "      plt.show()"
      ],
      "metadata": {
        "id": "yKhgbMWm1kAm"
      },
      "execution_count": 37,
      "outputs": []
    },
    {
      "cell_type": "code",
      "source": [
        "print(\"Linear Regression - Graph\")\n",
        "plot_graph(\"Linear Regression\", predictions_linear_reg )"
      ],
      "metadata": {
        "colab": {
          "base_uri": "https://localhost:8080/",
          "height": 490
        },
        "id": "xythFyBRReZi",
        "outputId": "8403e436-82d4-4b0c-ce48-13285ea21a0a"
      },
      "execution_count": 38,
      "outputs": [
        {
          "output_type": "stream",
          "name": "stdout",
          "text": [
            "Linear Regression - Graph\n"
          ]
        },
        {
          "output_type": "display_data",
          "data": {
            "text/plain": [
              "<Figure size 640x480 with 1 Axes>"
            ],
            "image/png": "[encoded data removed]"
          },
          "metadata": {}
        }
      ]
    },
    {
      "cell_type": "code",
      "source": [
        "#Printing the Execution Time\n",
        "print(\"Time taken for Linear Regression: \", regression_speed ,\"seconds\")"
      ],
      "metadata": {
        "id": "kOYFXhZOTWc-",
        "colab": {
          "base_uri": "https://localhost:8080/"
        },
        "outputId": "8d140111-970f-495d-aa73-9290d2285b06"
      },
      "execution_count": 42,
      "outputs": [
        {
          "output_type": "stream",
          "name": "stdout",
          "text": [
            "Time taken for Linear Regression:  75.06747341156006 seconds\n"
          ]
        }
      ]
    }
  ],
  "metadata": {
    "kernelspec": {
      "display_name": "Python 3 (ipykernel)",
      "language": "python",
      "name": "python3"
    },
    "language_info": {
      "codemirror_mode": {
        "name": "ipython",
        "version": 3
      },
      "file_extension": ".py",
      "mimetype": "text/x-python",
      "name": "python",
      "nbconvert_exporter": "python",
      "pygments_lexer": "ipython3",
      "version": "3.9.12"
    },
    "colab": {
      "provenance": [],
      "gpuType": "T4"
    },
    "accelerator": "GPU",
    "gpuClass": "standard"
  },
  "nbformat": 4,
  "nbformat_minor": 0
}