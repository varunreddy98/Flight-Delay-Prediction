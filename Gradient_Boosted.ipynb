{
  "cells": [
    {
      "cell_type": "markdown",
      "metadata": {
        "id": "ftAKddQQ7KZV"
      },
      "source": [
        "Initialing SparkSession and Loading Flight Data"
      ]
    },
    {
      "cell_type": "code",
      "source": [
        "# mounting the google drive to access the data\n",
        "from google.colab import drive\n",
        "drive.mount('/content/drive')"
      ],
      "metadata": {
        "colab": {
          "base_uri": "https://localhost:8080/"
        },
        "id": "bTWPQVeIh-4P",
        "outputId": "75879cf3-d297-4559-b0a3-24b2acddd88c"
      },
      "execution_count": 17,
      "outputs": [
        {
          "output_type": "stream",
          "name": "stdout",
          "text": [
            "Drive already mounted at /content/drive; to attempt to forcibly remount, call drive.mount(\"/content/drive\", force_remount=True).\n"
          ]
        }
      ]
    },
    {
      "cell_type": "code",
      "execution_count": 18,
      "metadata": {
        "colab": {
          "base_uri": "https://localhost:8080/"
        },
        "id": "Dr7R8QUk7KZW",
        "outputId": "6fa8da0b-4da0-4156-e2eb-a944b33298bf"
      },
      "outputs": [
        {
          "output_type": "stream",
          "name": "stdout",
          "text": [
            "Looking in indexes: https://pypi.org/simple, https://us-python.pkg.dev/colab-wheels/public/simple/\n",
            "Requirement already satisfied: pyspark in /usr/local/lib/python3.10/dist-packages (3.4.0)\n",
            "Requirement already satisfied: py4j==0.10.9.7 in /usr/local/lib/python3.10/dist-packages (from pyspark) (0.10.9.7)\n",
            "+----+-----+----------+---------+-------+----------+-------+----------+-------------+---------+-------+-----------------+--------------+-------+--------+--------+------+----+--------+------+-------+---------+----------------+--------+-------------------+---------------+----------------+-------------------+\n",
            "|Year|Month|DayofMonth|DayOfWeek|DepTime|CRSDepTime|ArrTime|CRSArrTime|UniqueCarrier|FlightNum|TailNum|ActualElapsedTime|CRSElapsedTime|AirTime|ArrDelay|DepDelay|Origin|Dest|Distance|TaxiIn|TaxiOut|Cancelled|CancellationCode|Diverted|carrier_transformed|org_transformed|dest_transformed|tailnum_transformed|\n",
            "+----+-----+----------+---------+-------+----------+-------+----------+-------------+---------+-------+-----------------+--------------+-------+--------+--------+------+----+--------+------+-------+---------+----------------+--------+-------------------+---------------+----------------+-------------------+\n",
            "|2008|    1|         3|        4| 1829.0|      1755| 1959.0|      1925|           WN|     3920| N464WN|             90.0|          90.0|   77.0|    34.0|    34.0|   IND| BWI|     515|   3.0|   10.0|        0|               N|       0|                0.0|           45.0|            19.0|              328.0|\n",
            "|2008|    1|         3|        4| 1937.0|      1830| 2037.0|      1940|           WN|      509| N763SW|            240.0|         250.0|  230.0|    57.0|    67.0|   IND| LAS|    1591|   3.0|    7.0|        0|               N|       0|                0.0|           45.0|             7.0|              666.0|\n",
            "|2008|    1|         3|        4| 1644.0|      1510| 1845.0|      1725|           WN|     1333| N334SW|            121.0|         135.0|  107.0|    80.0|    94.0|   IND| MCO|     828|   6.0|    8.0|        0|               N|       0|                0.0|           45.0|            13.0|              358.0|\n",
            "|2008|    1|         3|        4| 1452.0|      1425| 1640.0|      1625|           WN|      675| N286WN|            228.0|         240.0|  213.0|    15.0|    27.0|   IND| PHX|    1489|   7.0|    8.0|        0|               N|       0|                0.0|           45.0|             9.0|              609.0|\n",
            "|2008|    1|         3|        4| 1323.0|      1255| 1526.0|      1510|           WN|        4| N674AA|            123.0|         135.0|  110.0|    16.0|    28.0|   IND| TPA|     838|   4.0|    9.0|        0|               N|       0|                0.0|           45.0|            24.0|             1698.0|\n",
            "+----+-----+----------+---------+-------+----------+-------+----------+-------------+---------+-------+-----------------+--------------+-------+--------+--------+------+----+--------+------+-------+---------+----------------+--------+-------------------+---------------+----------------+-------------------+\n",
            "only showing top 5 rows\n",
            "\n",
            "[('Year', 'int'), ('Month', 'int'), ('DayofMonth', 'int'), ('DayOfWeek', 'int'), ('DepTime', 'double'), ('CRSDepTime', 'int'), ('ArrTime', 'double'), ('CRSArrTime', 'int'), ('UniqueCarrier', 'string'), ('FlightNum', 'int'), ('TailNum', 'string'), ('ActualElapsedTime', 'double'), ('CRSElapsedTime', 'double'), ('AirTime', 'double'), ('ArrDelay', 'double'), ('DepDelay', 'double'), ('Origin', 'string'), ('Dest', 'string'), ('Distance', 'int'), ('TaxiIn', 'double'), ('TaxiOut', 'double'), ('Cancelled', 'int'), ('CancellationCode', 'string'), ('Diverted', 'int'), ('carrier_transformed', 'double'), ('org_transformed', 'double'), ('dest_transformed', 'double'), ('tailnum_transformed', 'double')]\n"
          ]
        }
      ],
      "source": [
        "#Install the Pyspark\n",
        "!pip install pyspark\n",
        "\n",
        "# importing the required classes\n",
        "import pyspark\n",
        "from pyspark.sql import SparkSession\n",
        "\n",
        "\n",
        "from pyspark.ml.feature import VectorAssembler\n",
        "from pyspark.ml.feature import SQLTransformer\n",
        "\n",
        "from pyspark.ml import Pipeline \n",
        "from pyspark.ml.tuning import ParamGridBuilder, TrainValidationSplit\n",
        "from pyspark.ml.evaluation import RegressionEvaluator\n",
        "from pyspark.ml.regression import GBTRegressor\n",
        "from pyspark.ml.feature import VectorIndexer\n",
        "from pyspark.ml.evaluation import RegressionEvaluator\n",
        "\n",
        "import matplotlib.pyplot as plt\n",
        "import numpy as np\n",
        "import time\n",
        "\n",
        "# creating a spark session\n",
        "spark = SparkSession.builder.master('local[*]').appName('Flight Delay Prediction').getOrCreate()\n",
        "\n",
        "# Load the pre-processed data from drive \n",
        "flights_df = spark.read.csv('/content/drive/MyDrive/532/ProcessedFlights', sep=',', header=True, inferSchema=True, nullValue='NA')\n",
        "\n",
        "# printing the columns and their types\n",
        "flights_df.show(5)\n",
        "print(flights_df.dtypes)\n"
      ]
    },
    {
      "cell_type": "markdown",
      "metadata": {
        "id": "JpLU5-Oh7KZX"
      },
      "source": [
        "Pre-processing the flight data "
      ]
    },
    {
      "cell_type": "code",
      "execution_count": 19,
      "metadata": {
        "id": "mg1ZrgQw7KZY"
      },
      "outputs": [],
      "source": [
        "# Create an assembler object to consolidate the features\n",
        "relevantCols = ['Year', 'Month', 'DayofMonth', 'DayOfWeek', 'DepTime', 'CRSDepTime', 'ArrTime', 'CRSArrTime', 'FlightNum', 'ActualElapsedTime', 'CRSElapsedTime', 'AirTime', 'Distance', 'TaxiIn', 'TaxiOut', 'Cancelled', 'Diverted', 'carrier_transformed', 'org_transformed', 'dest_transformed', 'tailnum_transformed']\n",
        "assembler = VectorAssembler(inputCols=relevantCols, outputCol='features')\n",
        "flights_consolidate = assembler.transform(flights_df)\n",
        "\n",
        "# Selecting the features and delay values using SQLTransformer\n",
        "transformer = SQLTransformer(statement=\"SELECT ArrDelay, features FROM __THIS__\")\n",
        "flights_data = transformer.transform(flights_consolidate)\n",
        "\n",
        "# Indexing categorical feature using VectorIndexer\n",
        "featureIndexer =VectorIndexer(inputCol=\"features\", outputCol=\"indexedFeatures\", maxCategories=32).fit(flights_data)\n",
        "\n",
        "# Split the data for training and test\n",
        "flights_train2, flights_test2 = flights_data.randomSplit([0.8, 0.2])"
      ]
    },
    {
      "cell_type": "code",
      "source": [
        "# Start Execution time\n",
        "time_init = time.time()\n",
        "\n",
        "#Creating GBT Regressor model \n",
        "gbt = GBTRegressor(featuresCol=\"indexedFeatures\", labelCol=\"ArrDelay\")\n",
        "\n",
        "#Create a pipeline with the featureIndexer and GBT model\n",
        "pipeline2 = Pipeline(stages=[featureIndexer, gbt])\n",
        "\n",
        "# define set of parameters for tuning the model\n",
        "paramGrid1 = (ParamGridBuilder() \\\n",
        "    .addGrid(gbt.maxIter, [1,2,5]) \\\n",
        "    .build())\n",
        "\n",
        "# Define the evaluator\n",
        "evaluator1 = RegressionEvaluator(labelCol=\"ArrDelay\", predictionCol=\"prediction\", metricName=\"rmse\")\n",
        "\n",
        "# Define the train-validation split\n",
        "train_validation_split_gbt = TrainValidationSplit(estimator=pipeline2, estimatorParamMaps=paramGrid1, evaluator=evaluator1, trainRatio=0.8)\n",
        "\n",
        "#Train the model\n",
        "model_gbt = train_validation_split_gbt.fit(flights_train2)\n",
        "\n",
        "#End the execution time\n",
        "gbt_speed = time.time() - time_init "
      ],
      "metadata": {
        "id": "8TRjqkzJGj_j"
      },
      "execution_count": 20,
      "outputs": []
    },
    {
      "cell_type": "code",
      "source": [
        "#Displaying the models training featureImportances\n",
        "featureImportances = model_gbt.bestModel.stages[-1].featureImportances\n",
        "print(featureImportances)"
      ],
      "metadata": {
        "colab": {
          "base_uri": "https://localhost:8080/"
        },
        "id": "4qJjk9huvDt8",
        "outputId": "bb93e869-6ef7-4812-d6c9-d31f39e2b76b"
      },
      "execution_count": 21,
      "outputs": [
        {
          "output_type": "stream",
          "name": "stdout",
          "text": [
            "(21,[2,4,5,6,7,10,14,17,19],[7.245530054601273e-05,0.010841271414804905,0.0062180805992845525,0.39169956838891445,0.5424969824423372,0.00046493478760393375,0.03178086880809681,0.014182636683909724,0.002243201574502243])\n"
          ]
        }
      ]
    },
    {
      "cell_type": "code",
      "source": [
        "# predicting for the test data\n",
        "predictions_gbt = model_gbt.transform(flights_test2)\n",
        "\n",
        "#Evaluating the Test Data\n",
        "# Evaluating for RMSE metric\n",
        "gbt_evaluator_mse = RegressionEvaluator(predictionCol=\"prediction\", \\\n",
        "                 labelCol=\"ArrDelay\",metricName=\"rmse\")\n",
        "\n",
        "print(\"RMSE on test data = %g\" % gbt_evaluator_mse.evaluate(predictions_gbt))\n",
        "\n",
        "# Evaluating for MAE metric\n",
        "gbt_evaluator_mae = RegressionEvaluator(predictionCol=\"prediction\", \\\n",
        "                 labelCol=\"ArrDelay\",metricName=\"mae\")\n",
        "\n",
        "print(\"MAE on test data = %g\" % gbt_evaluator_mae.evaluate(predictions_gbt))\n",
        "\n",
        "# Evaluating for R2 metric\n",
        "gbt_evaluator_r2 = RegressionEvaluator(predictionCol=\"prediction\", \\\n",
        "                 labelCol=\"ArrDelay\",metricName=\"r2\")\n",
        "\n",
        "print(\"R2 on test data = %g\" % gbt_evaluator_r2.evaluate(predictions_gbt))"
      ],
      "metadata": {
        "id": "mB9-XMunywfU",
        "colab": {
          "base_uri": "https://localhost:8080/"
        },
        "outputId": "ea848d53-a54e-473a-b57b-5b7907d57842"
      },
      "execution_count": 22,
      "outputs": [
        {
          "output_type": "stream",
          "name": "stdout",
          "text": [
            "RMSE on test data = 37.5776\n",
            "MAE on test data = 24.8919\n",
            "R2 on test data = 0.616824\n"
          ]
        }
      ]
    },
    {
      "cell_type": "code",
      "source": [
        "def plot_graph(model_name, predictions):\n",
        "      #Processing the predictions to plot the graph\n",
        "      pred = predictions.select('prediction').rdd.flatMap(lambda x: x)\n",
        "      pred = [r[0] for r in predictions.select('prediction').toLocalIterator()]\n",
        "      test = [r[0] for r in predictions.select('ArrDelay').toLocalIterator()]\n",
        "\n",
        "      # plotting the graph with original and predicted values\n",
        "      plt.plot(range(len(pred)), pred, label = \"predicted delay\")\n",
        "      plt.plot(range(len(pred)), test, label = \"original delay\")\n",
        "      plt.legend()\n",
        "      plt.ylabel(\"delay value\")\n",
        "      plt.xlabel(\"test data\")\n",
        "      plt.title(\"Delay\")\n",
        "      plt.show()"
      ],
      "metadata": {
        "id": "yKhgbMWm1kAm"
      },
      "execution_count": 23,
      "outputs": []
    },
    {
      "cell_type": "code",
      "source": [
        "print(\"Gradient Boosted Tree Regression - Graph\")\n",
        "plot_graph(\"Gradient Boosted Tree Regression\", predictions_gbt )"
      ],
      "metadata": {
        "colab": {
          "base_uri": "https://localhost:8080/",
          "height": 490
        },
        "id": "xythFyBRReZi",
        "outputId": "4ebd790b-84f8-4eb1-eeca-e2f1e38cb8ae"
      },
      "execution_count": 24,
      "outputs": [
        {
          "output_type": "stream",
          "name": "stdout",
          "text": [
            "Gradient Boosted Tree Regression - Graph\n"
          ]
        },
        {
          "output_type": "display_data",
          "data": {
            "text/plain": [
              "<Figure size 640x480 with 1 Axes>"
            ],
            "image/png": "[encoded data removed]"
          },
          "metadata": {}
        }
      ]
    },
    {
      "cell_type": "code",
      "source": [
        "#Printing the Execution Time\n",
        "print(\"Time taken for Random Forest Regression : \", gbt_speed ,\"seconds\")"
      ],
      "metadata": {
        "colab": {
          "base_uri": "https://localhost:8080/"
        },
        "id": "eg_GeUaRcIJ2",
        "outputId": "2dd7291f-b51c-47a4-b9c9-00c1034cd977"
      },
      "execution_count": 25,
      "outputs": [
        {
          "output_type": "stream",
          "name": "stdout",
          "text": [
            "Time taken for Random Forest Regression :  144.17661786079407 seconds\n"
          ]
        }
      ]
    }
  ],
  "metadata": {
    "kernelspec": {
      "display_name": "Python 3 (ipykernel)",
      "language": "python",
      "name": "python3"
    },
    "language_info": {
      "codemirror_mode": {
        "name": "ipython",
        "version": 3
      },
      "file_extension": ".py",
      "mimetype": "text/x-python",
      "name": "python",
      "nbconvert_exporter": "python",
      "pygments_lexer": "ipython3",
      "version": "3.9.12"
    },
    "colab": {
      "provenance": [],
      "gpuType": "T4"
    },
    "accelerator": "GPU",
    "gpuClass": "standard"
  },
  "nbformat": 4,
  "nbformat_minor": 0
}