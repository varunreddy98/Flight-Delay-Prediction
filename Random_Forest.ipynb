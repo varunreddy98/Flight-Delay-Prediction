{
  "cells": [
    {
      "cell_type": "markdown",
      "metadata": {
        "id": "ftAKddQQ7KZV"
      },
      "source": [
        "Initialing SparkSession and Loading Flight Data"
      ]
    },
    {
      "cell_type": "code",
      "source": [
        "# mounting the google drive to access the data\n",
        "from google.colab import drive\n",
        "drive.mount('/content/drive')"
      ],
      "metadata": {
        "colab": {
          "base_uri": "https://localhost:8080/"
        },
        "id": "bTWPQVeIh-4P",
        "outputId": "023ecc52-e1ac-4bbf-9b78-aa8f4e4785c7"
      },
      "execution_count": 21,
      "outputs": [
        {
          "output_type": "stream",
          "name": "stdout",
          "text": [
            "Drive already mounted at /content/drive; to attempt to forcibly remount, call drive.mount(\"/content/drive\", force_remount=True).\n"
          ]
        }
      ]
    },
    {
      "cell_type": "code",
      "execution_count": 22,
      "metadata": {
        "colab": {
          "base_uri": "https://localhost:8080/"
        },
        "id": "Dr7R8QUk7KZW",
        "outputId": "58a4118a-2370-46ad-d5e4-17ab39d27537"
      },
      "outputs": [
        {
          "output_type": "stream",
          "name": "stdout",
          "text": [
            "Looking in indexes: https://pypi.org/simple, https://us-python.pkg.dev/colab-wheels/public/simple/\n",
            "Requirement already satisfied: pyspark in /usr/local/lib/python3.10/dist-packages (3.4.0)\n",
            "Requirement already satisfied: py4j==0.10.9.7 in /usr/local/lib/python3.10/dist-packages (from pyspark) (0.10.9.7)\n",
            "+----+-----+----------+---------+-------+----------+-------+----------+-------------+---------+-------+-----------------+--------------+-------+--------+--------+------+----+--------+------+-------+---------+----------------+--------+-------------------+---------------+----------------+-------------------+\n",
            "|Year|Month|DayofMonth|DayOfWeek|DepTime|CRSDepTime|ArrTime|CRSArrTime|UniqueCarrier|FlightNum|TailNum|ActualElapsedTime|CRSElapsedTime|AirTime|ArrDelay|DepDelay|Origin|Dest|Distance|TaxiIn|TaxiOut|Cancelled|CancellationCode|Diverted|carrier_transformed|org_transformed|dest_transformed|tailnum_transformed|\n",
            "+----+-----+----------+---------+-------+----------+-------+----------+-------------+---------+-------+-----------------+--------------+-------+--------+--------+------+----+--------+------+-------+---------+----------------+--------+-------------------+---------------+----------------+-------------------+\n",
            "|2008|    1|         3|        4| 1829.0|      1755| 1959.0|      1925|           WN|     3920| N464WN|             90.0|          90.0|   77.0|    34.0|    34.0|   IND| BWI|     515|   3.0|   10.0|        0|               N|       0|                0.0|           45.0|            19.0|              328.0|\n",
            "|2008|    1|         3|        4| 1937.0|      1830| 2037.0|      1940|           WN|      509| N763SW|            240.0|         250.0|  230.0|    57.0|    67.0|   IND| LAS|    1591|   3.0|    7.0|        0|               N|       0|                0.0|           45.0|             7.0|              666.0|\n",
            "|2008|    1|         3|        4| 1644.0|      1510| 1845.0|      1725|           WN|     1333| N334SW|            121.0|         135.0|  107.0|    80.0|    94.0|   IND| MCO|     828|   6.0|    8.0|        0|               N|       0|                0.0|           45.0|            13.0|              358.0|\n",
            "|2008|    1|         3|        4| 1452.0|      1425| 1640.0|      1625|           WN|      675| N286WN|            228.0|         240.0|  213.0|    15.0|    27.0|   IND| PHX|    1489|   7.0|    8.0|        0|               N|       0|                0.0|           45.0|             9.0|              609.0|\n",
            "|2008|    1|         3|        4| 1323.0|      1255| 1526.0|      1510|           WN|        4| N674AA|            123.0|         135.0|  110.0|    16.0|    28.0|   IND| TPA|     838|   4.0|    9.0|        0|               N|       0|                0.0|           45.0|            24.0|             1698.0|\n",
            "+----+-----+----------+---------+-------+----------+-------+----------+-------------+---------+-------+-----------------+--------------+-------+--------+--------+------+----+--------+------+-------+---------+----------------+--------+-------------------+---------------+----------------+-------------------+\n",
            "only showing top 5 rows\n",
            "\n",
            "[('Year', 'int'), ('Month', 'int'), ('DayofMonth', 'int'), ('DayOfWeek', 'int'), ('DepTime', 'double'), ('CRSDepTime', 'int'), ('ArrTime', 'double'), ('CRSArrTime', 'int'), ('UniqueCarrier', 'string'), ('FlightNum', 'int'), ('TailNum', 'string'), ('ActualElapsedTime', 'double'), ('CRSElapsedTime', 'double'), ('AirTime', 'double'), ('ArrDelay', 'double'), ('DepDelay', 'double'), ('Origin', 'string'), ('Dest', 'string'), ('Distance', 'int'), ('TaxiIn', 'double'), ('TaxiOut', 'double'), ('Cancelled', 'int'), ('CancellationCode', 'string'), ('Diverted', 'int'), ('carrier_transformed', 'double'), ('org_transformed', 'double'), ('dest_transformed', 'double'), ('tailnum_transformed', 'double')]\n"
          ]
        }
      ],
      "source": [
        "#Install the Pyspark\n",
        "!pip install pyspark\n",
        "\n",
        "# importing the required classes\n",
        "import pyspark\n",
        "from pyspark.sql import SparkSession\n",
        "\n",
        "from pyspark.ml.feature import VectorAssembler\n",
        "from pyspark.ml.feature import SQLTransformer\n",
        "\n",
        "from pyspark.ml import Pipeline \n",
        "from pyspark.ml.evaluation import RegressionEvaluator\n",
        "from pyspark.ml.regression import RandomForestRegressor\n",
        "from pyspark.ml.feature import VectorIndexer\n",
        "\n",
        "import matplotlib.pyplot as plt\n",
        "import numpy as np\n",
        "import time\n",
        "\n",
        "# creating a spark session\n",
        "spark = SparkSession.builder.master('local[*]').appName('Flight Delay Prediction').getOrCreate()\n",
        "\n",
        "# Load the pre-processed data from drive \n",
        "flights_df = spark.read.csv('/content/drive/MyDrive/532/ProcessedFlights', sep=',', header=True, inferSchema=True, nullValue='NA')\n",
        "\n",
        "# printing the columns and their types\n",
        "flights_df.show(5)\n",
        "print(flights_df.dtypes)\n"
      ]
    },
    {
      "cell_type": "markdown",
      "metadata": {
        "id": "JpLU5-Oh7KZX"
      },
      "source": [
        "Pre-processing the flight data "
      ]
    },
    {
      "cell_type": "code",
      "execution_count": 23,
      "metadata": {
        "id": "mg1ZrgQw7KZY"
      },
      "outputs": [],
      "source": [
        "# Create an assembler object to consolidate the features\n",
        "relevantCols = ['Year', 'Month', 'DayofMonth', 'DayOfWeek', 'DepTime', 'CRSDepTime', 'ArrTime', 'CRSArrTime', 'FlightNum', 'ActualElapsedTime', 'CRSElapsedTime', 'AirTime', 'Distance', 'TaxiIn', 'TaxiOut', 'Cancelled', 'Diverted', 'carrier_transformed', 'org_transformed', 'dest_transformed', 'tailnum_transformed']\n",
        "assembler = VectorAssembler(inputCols=relevantCols, outputCol='features')\n",
        "flights_consolidate = assembler.transform(flights_df)\n",
        "\n",
        "# Selecting the features and delay values using SQLTransformer\n",
        "transformer = SQLTransformer(statement=\"SELECT ArrDelay, features FROM __THIS__\")\n",
        "flights_data = transformer.transform(flights_consolidate)\n",
        "\n",
        "# Indexing categorical feature using VectorIndexer\n",
        "featureIndexer =VectorIndexer(inputCol=\"features\", outputCol=\"indexedFeatures\", maxCategories=32).fit(flights_data)\n",
        "\n",
        "# Split the data for training and test\n",
        "flights_train2, flights_test2 = flights_data.randomSplit([0.8, 0.2])"
      ]
    },
    {
      "cell_type": "code",
      "source": [
        "# Start Execution time\n",
        "time_init = time.time()\n",
        "\n",
        "#Creating Random Forest Regressor model \n",
        "rf = RandomForestRegressor(featuresCol=\"indexedFeatures\", labelCol=\"ArrDelay\")\n",
        "\n",
        "#Create a pipeline with the featureIndexer and Random Forest Model\n",
        "pipeline2 = Pipeline(stages=[featureIndexer, rf])\n",
        "\n",
        "#Train the model\n",
        "model_rf = pipeline2.fit(flights_train2)\n",
        "\n",
        "#End the execution time\n",
        "rf_speed = time.time() - time_init "
      ],
      "metadata": {
        "id": "8TRjqkzJGj_j"
      },
      "execution_count": 24,
      "outputs": []
    },
    {
      "cell_type": "code",
      "source": [
        "#Displaying the models training featureImportances\n",
        "featureImportances = model_rf.stages[-1].featureImportances\n",
        "print(featureImportances)"
      ],
      "metadata": {
        "colab": {
          "base_uri": "https://localhost:8080/"
        },
        "id": "4qJjk9huvDt8",
        "outputId": "67dd3f6d-11b8-42b0-c21b-68cd52e33aa9"
      },
      "execution_count": 25,
      "outputs": [
        {
          "output_type": "stream",
          "name": "stdout",
          "text": [
            "(21,[1,2,3,4,5,6,7,8,9,10,11,12,13,14,17,18,19,20],[0.0014854712379359634,0.0028328627429770963,7.190938639288998e-05,0.0989718232077681,0.26120516957472817,0.22490010430447568,0.19728945505170828,8.499467972112314e-05,0.003393981576733096,0.0038237622075986905,0.006495047785678399,0.00272725130155727,0.0071074486957888455,0.1321306596256946,0.027325513277579917,0.011601053782016573,0.018239627009357478,0.0003138645522877485])\n"
          ]
        }
      ]
    },
    {
      "cell_type": "code",
      "source": [
        "# predicting for the test data\n",
        "predictions_rf = model_rf.transform(flights_test2)\n",
        "\n",
        "#Evaluating the Test Data\n",
        "# Evaluating for RMSE metric\n",
        "rf_evaluator_mse = RegressionEvaluator(predictionCol=\"prediction\", \\\n",
        "                 labelCol=\"ArrDelay\",metricName=\"rmse\")\n",
        "\n",
        "print(\"RMSE on test data = %g\" % rf_evaluator_mse.evaluate(predictions_rf))\n",
        "\n",
        "# Evaluating for MAE metric\n",
        "rf_evaluator_mae = RegressionEvaluator(predictionCol=\"prediction\", \\\n",
        "                 labelCol=\"ArrDelay\",metricName=\"mae\")\n",
        "\n",
        "print(\"MAE on test data = %g\" % rf_evaluator_mae.evaluate(predictions_rf))\n",
        "\n",
        "# Evaluating for R2 metric\n",
        "rf_evaluator_r2 = RegressionEvaluator(predictionCol=\"prediction\", \\\n",
        "                 labelCol=\"ArrDelay\",metricName=\"r2\")\n",
        "\n",
        "print(\"R2 on test data = %g\" % rf_evaluator_r2.evaluate(predictions_rf))"
      ],
      "metadata": {
        "id": "mB9-XMunywfU",
        "colab": {
          "base_uri": "https://localhost:8080/"
        },
        "outputId": "3491c456-62c6-46fe-b9d0-7765ff486128"
      },
      "execution_count": 26,
      "outputs": [
        {
          "output_type": "stream",
          "name": "stdout",
          "text": [
            "RMSE on test data = 51.7963\n",
            "MAE on test data = 34.2957\n",
            "R2 on test data = 0.269222\n"
          ]
        }
      ]
    },
    {
      "cell_type": "code",
      "source": [
        "def plot_graph(model_name, predictions):\n",
        "      #Processing the predictions to plot the graph\n",
        "      pred = predictions.select('prediction').rdd.flatMap(lambda x: x)\n",
        "      pred = [r[0] for r in predictions.select('prediction').toLocalIterator()]\n",
        "      test = [r[0] for r in predictions.select('ArrDelay').toLocalIterator()]\n",
        "\n",
        "      # plotting the graph with original and predicted values\n",
        "      plt.plot(range(len(pred)), pred, label = \"predicted delay\")\n",
        "      plt.plot(range(len(pred)), test, label = \"original delay\")\n",
        "      plt.legend()\n",
        "      plt.ylabel(\"delay value\")\n",
        "      plt.xlabel(\"test data\")\n",
        "      plt.title(\"Delay -- \"+ model_name)\n",
        "      plt.show()"
      ],
      "metadata": {
        "id": "yKhgbMWm1kAm"
      },
      "execution_count": 27,
      "outputs": []
    },
    {
      "cell_type": "code",
      "source": [
        "print(\"RandomForest Regression - Graph\")\n",
        "plot_graph(\"RandomForest Regression\", predictions_rf )"
      ],
      "metadata": {
        "colab": {
          "base_uri": "https://localhost:8080/",
          "height": 490
        },
        "id": "xythFyBRReZi",
        "outputId": "c4274d83-ad2b-4a07-f0f0-f7bf099945f3"
      },
      "execution_count": 28,
      "outputs": [
        {
          "output_type": "stream",
          "name": "stdout",
          "text": [
            "RandomForest Regression - Graph\n"
          ]
        },
        {
          "output_type": "display_data",
          "data": {
            "text/plain": [
              "<Figure size 640x480 with 1 Axes>"
            ],
            "image/png": "[encoded data removed]"
          },
          "metadata": {}
        }
      ]
    },
    {
      "cell_type": "code",
      "source": [
        "#Printing the Execution Time\n",
        "print(\"Time taken for Random Forest Regression : \", rf_speed ,\"seconds\")"
      ],
      "metadata": {
        "colab": {
          "base_uri": "https://localhost:8080/"
        },
        "id": "eg_GeUaRcIJ2",
        "outputId": "f6203076-c301-4a17-fe33-ffe90e9a60bd"
      },
      "execution_count": 29,
      "outputs": [
        {
          "output_type": "stream",
          "name": "stdout",
          "text": [
            "Time taken for Random Forest Regression :  91.37276577949524 seconds\n"
          ]
        }
      ]
    }
  ],
  "metadata": {
    "kernelspec": {
      "display_name": "Python 3 (ipykernel)",
      "language": "python",
      "name": "python3"
    },
    "language_info": {
      "codemirror_mode": {
        "name": "ipython",
        "version": 3
      },
      "file_extension": ".py",
      "mimetype": "text/x-python",
      "name": "python",
      "nbconvert_exporter": "python",
      "pygments_lexer": "ipython3",
      "version": "3.9.12"
    },
    "colab": {
      "provenance": [],
      "gpuType": "T4"
    },
    "accelerator": "GPU",
    "gpuClass": "standard"
  },
  "nbformat": 4,
  "nbformat_minor": 0
}